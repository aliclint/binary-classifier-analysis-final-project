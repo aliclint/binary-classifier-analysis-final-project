{
 "cells": [
  {
   "cell_type": "code",
   "execution_count": 171,
   "metadata": {},
   "outputs": [],
   "source": [
    "import pandas as pd\n",
    "import numpy as np\n",
    "import matplotlib.pyplot as plt\n",
    "import sklearn\n",
    "from sklearn.preprocessing import *\n",
    "from sklearn.metrics import *\n",
    "from sklearn.ensemble import *\n",
    "from sklearn.linear_model import *\n",
    "from sklearn.svm import * \n",
    "from sklearn.model_selection import *\n",
    "from imblearn.over_sampling import *\n",
    "from sklearn.neighbors import *\n",
    "from sklearn.neural_network import *\n",
    "from scipy.stats import t\n",
    "from collections import defaultdict\n",
    "import copy\n",
    "import csv"
   ]
  },
  {
   "cell_type": "markdown",
   "metadata": {},
   "source": [
    "# Data\n",
    "\n",
    "## Preprocess\n",
    "The German Risk data has 10 features, the features of the data are Age, Sex, Job, Housing, Saving accounts, Checking account, Credit amount, Duration and Purpose and the label of the data is called Risk. Since the features of the data are a mix of numerical and categorical values, it was necessary to transform the numerical values into a categorical one. First of all, age was transformed into a categorical variable by discriminating if an applicant is in retirement age or not. Second, credit amount of the loan was transformed into a categorical data by discriminating the continuous values by using quantiles. All values up to the 1st quantile are considered low, values in the interquartile range is considered medium, and values greater than the 3rd quantile to be considered high. Third, duration of the loan was transformed from a discrete numericla value into a categorical value by grouping all loans less than 12 months to be a short term loan, and anything greater than or equal to 12 months to be a long term loan. After transforming all the variables into a categorical variable, it was then possible to use dummy variables to model the levels of the categories. By encoding the cateogrical variable using the one hot encoding (dummy variable) method, the features grew from 9 columns up to 31 columns to encode all the possible combinations of the categorical variables. Subsequently, the data set was split into a 80% training and 20% testing set by simple random sample. This was employed to make sure that the test risk is an unbiased estimate of true risk. After the split it was found that the training set was imbalanced. In order to combat this, Synthetic Minority Over-sampling Technique (SMOTE) would be employed such that it would both oversample and undersample the training data in order to create a 50:50 balance. This would both exaggerate the minority and majority population of the training set and reduce estimation error due to bias."
   ]
  },
  {
   "cell_type": "code",
   "execution_count": 172,
   "metadata": {},
   "outputs": [],
   "source": [
    "filename='german_credit_data.csv'\n",
    "df = pd.read_csv(filename,sep=',')"
   ]
  },
  {
   "cell_type": "code",
   "execution_count": null,
   "metadata": {},
   "outputs": [],
   "source": [
    "df.head()"
   ]
  },
  {
   "cell_type": "code",
   "execution_count": 174,
   "metadata": {},
   "outputs": [],
   "source": [
    "# pension age based on gender\n",
    "pension = (df['Age'] >= 65) & (df['Sex'] == ('female')) | (df['Age'] >= 65) & (df['Sex'] == ('male'))\n",
    "\n",
    "# discriminate based on quantiles of credit amount\n",
    "df['Credit amount'].quantile([.25,.75])\n",
    "\n",
    "credit = []\n",
    "for i in df['Credit amount']:\n",
    "    if i < df['Credit amount'].quantile(.25):\n",
    "        credit.append('low')\n",
    "    elif i < df['Credit amount'].quantile(.75):\n",
    "        credit.append('med')\n",
    "    else:\n",
    "        credit.append('high')\n",
    "# discriminate based on duration of loans in month if less than 12 then it's a short term loan, long term otherwise.\n",
    "\n",
    "duration = []\n",
    "for i in df['Duration']:\n",
    "    if i < 12:\n",
    "        duration.append('short')\n",
    "    else:\n",
    "        duration.append('long')\n",
    "\n",
    "# clean whitespace on column names to not fuck shit up\n",
    "df.columns = df.columns.str.replace(' ', '')\n",
    "# create new dataframe\n",
    "df_clean = pd.DataFrame(columns=['sex','housing','job','purpose','sav','chq','amt','duration','pension'])\n",
    "df_clean = df_clean.fillna(0)\n",
    "\n",
    "# factorize all categorical variables, take the log of credit amount because it's better to work in the log scale for money\n",
    "df_clean['sex'] = pd.factorize(df.Sex)[0]\n",
    "df_clean['housing'] = pd.factorize(df.Housing)[0]\n",
    "df_clean['job'] = pd.factorize(df.Job)[0]\n",
    "df_clean['purpose'] = pd.factorize(df.Purpose)[0]\n",
    "df_clean['sav'] = pd.factorize(df.Savingaccounts)[0] + 1\n",
    "df_clean['chq'] = pd.factorize(df.Checkingaccount)[0] + 1\n",
    "df_clean['pension'] = pd.factorize(pension)[0]\n",
    "df_clean['amt'] = pd.factorize(credit)[0]\n",
    "df_clean['duration'] = pd.factorize(duration)[0]\n",
    "\n",
    "# good risk = 0, bad risk = 1\n",
    "label = pd.factorize(df[\"Risk\"].values)[0]\n"
   ]
  },
  {
   "cell_type": "code",
   "execution_count": 175,
   "metadata": {},
   "outputs": [
    {
     "data": {
      "text/html": [
       "<div>\n",
       "<style scoped>\n",
       "    .dataframe tbody tr th:only-of-type {\n",
       "        vertical-align: middle;\n",
       "    }\n",
       "\n",
       "    .dataframe tbody tr th {\n",
       "        vertical-align: top;\n",
       "    }\n",
       "\n",
       "    .dataframe thead th {\n",
       "        text-align: right;\n",
       "    }\n",
       "</style>\n",
       "<table border=\"1\" class=\"dataframe\">\n",
       "  <thead>\n",
       "    <tr style=\"text-align: right;\">\n",
       "      <th></th>\n",
       "      <th>sex</th>\n",
       "      <th>housing</th>\n",
       "      <th>job</th>\n",
       "      <th>purpose</th>\n",
       "      <th>sav</th>\n",
       "      <th>chq</th>\n",
       "      <th>amt</th>\n",
       "      <th>duration</th>\n",
       "      <th>pension</th>\n",
       "    </tr>\n",
       "  </thead>\n",
       "  <tbody>\n",
       "    <tr>\n",
       "      <th>0</th>\n",
       "      <td>0</td>\n",
       "      <td>0</td>\n",
       "      <td>0</td>\n",
       "      <td>0</td>\n",
       "      <td>0</td>\n",
       "      <td>1</td>\n",
       "      <td>0</td>\n",
       "      <td>0</td>\n",
       "      <td>0</td>\n",
       "    </tr>\n",
       "    <tr>\n",
       "      <th>1</th>\n",
       "      <td>1</td>\n",
       "      <td>0</td>\n",
       "      <td>0</td>\n",
       "      <td>0</td>\n",
       "      <td>1</td>\n",
       "      <td>2</td>\n",
       "      <td>1</td>\n",
       "      <td>1</td>\n",
       "      <td>1</td>\n",
       "    </tr>\n",
       "    <tr>\n",
       "      <th>2</th>\n",
       "      <td>0</td>\n",
       "      <td>0</td>\n",
       "      <td>1</td>\n",
       "      <td>1</td>\n",
       "      <td>1</td>\n",
       "      <td>0</td>\n",
       "      <td>2</td>\n",
       "      <td>1</td>\n",
       "      <td>1</td>\n",
       "    </tr>\n",
       "    <tr>\n",
       "      <th>3</th>\n",
       "      <td>0</td>\n",
       "      <td>1</td>\n",
       "      <td>0</td>\n",
       "      <td>2</td>\n",
       "      <td>1</td>\n",
       "      <td>1</td>\n",
       "      <td>1</td>\n",
       "      <td>1</td>\n",
       "      <td>1</td>\n",
       "    </tr>\n",
       "    <tr>\n",
       "      <th>4</th>\n",
       "      <td>0</td>\n",
       "      <td>1</td>\n",
       "      <td>0</td>\n",
       "      <td>3</td>\n",
       "      <td>1</td>\n",
       "      <td>1</td>\n",
       "      <td>1</td>\n",
       "      <td>1</td>\n",
       "      <td>1</td>\n",
       "    </tr>\n",
       "  </tbody>\n",
       "</table>\n",
       "</div>"
      ],
      "text/plain": [
       "   sex  housing  job  purpose  sav  chq  amt  duration  pension\n",
       "0    0        0    0        0    0    1    0         0        0\n",
       "1    1        0    0        0    1    2    1         1        1\n",
       "2    0        0    1        1    1    0    2         1        1\n",
       "3    0        1    0        2    1    1    1         1        1\n",
       "4    0        1    0        3    1    1    1         1        1"
      ]
     },
     "execution_count": 175,
     "metadata": {},
     "output_type": "execute_result"
    }
   ],
   "source": [
    "df_clean.head()"
   ]
  },
  {
   "cell_type": "code",
   "execution_count": 176,
   "metadata": {
    "scrolled": true
   },
   "outputs": [],
   "source": [
    "# in order to replicate the experiment\n",
    "seed = 1992\n",
    "# split data for training and holdout test set\n",
    "data_train, data_test, label_train, label_test = train_test_split(df_clean, label, test_size = 0.20, random_state=seed)\n",
    "\n",
    "# SMOTE to oversample and undersample\n",
    "sm = SMOTE(random_state=seed)\n",
    "data_train, label_train = sm.fit_resample(data_train, label_train)\n",
    "\n",
    "# using stratified k fold in order to get equal proportion of data\n",
    "skf = StratifiedKFold(n_splits=4, random_state=seed, shuffle=True)"
   ]
  },
  {
   "cell_type": "markdown",
   "metadata": {},
   "source": [
    "# Training\n",
    "## Methods\n",
    "These five following classifiers are chosen to solve the task of binary classification: \n",
    "\n",
    "$h_1$: Logistic regression with a regularization parameter of 0.8 and the rest of the parameters are chosen as default. \n",
    "\n",
    "\n",
    "$h_2$: Support vector machines with a polynomial kernel of degree 2, the rest of the parameters are chosen by default.\n",
    "\n",
    "\n",
    "$h_4$: Random forest with 6 trees with maximum depth equal to the number of features after adding the dummy variables were chosen as parameters of this algorithm. The maximum depth was chosen because the data was transformed to a purely categorical one, and the maximum depth of the tree will enable all permutations of the categorical variables to work. The rest of the parameters are chosen as default.\n",
    "\n",
    "\n",
    "$h_5$: K Nearest Neighbor with $k=7$ and with default parameters for the rest.\n",
    "\n",
    "\n",
    "$h_6$: Artifiicial Neural Network with a hidden layer, sigmoid activation function and Stochastic Gradient Descent to tune its weights as parameters. The rest of the hyper parameters are default values from the function itself.\n",
    "\n",
    "## Crossvalidation\n",
    "\n",
    "After preprocessing the data and finally achieving a train and test split, it is then possible to employ cross validation on the training set. Stratified k-fold is chosen in order to preserve the 50:50 balance of the training data. In this data, four folds were chosen and all the algorithms were run through each permutation of the folds of the data once. The best classifier score out of the four folds will determine the best model of each algorithm which will then be used on the testing set."
   ]
  },
  {
   "cell_type": "code",
   "execution_count": 177,
   "metadata": {},
   "outputs": [],
   "source": [
    "# ml models\n",
    "l = LogisticRegression(C=0.8, random_state = seed, solver='liblinear')\n",
    "r = RandomForestClassifier(n_estimators=6,max_depth=31, random_state= seed)\n",
    "s = SVC(kernel='poly', degree=3, gamma=2, probability=True, random_state = seed)\n",
    "k = KNeighborsClassifier(n_neighbors=7)\n",
    "a = MLPClassifier(solver='sgd', activation='relu', alpha=1e-5,hidden_layer_sizes=(9,), random_state=seed)\n",
    "\n",
    "# One hot encoding (dummy variables)\n",
    "enc = OneHotEncoder(handle_unknown='ignore')\n",
    "enc.fit(data_train)\n",
    "X_train_one_hot = enc.transform(data_train)\n",
    "X_test_one_hot = enc.transform(data_test)\n",
    "\n",
    "X_train = []\n",
    "X_test = []\n",
    "y_train = []\n",
    "y_test = []\n",
    "\n",
    "# Stratified K-fold\n",
    "for train_index, test_index in skf.split(X_train_one_hot, label_train):\n",
    "    train_data, test_data = X_train_one_hot[train_index], X_train_one_hot[test_index]\n",
    "    X_train.append(train_data)\n",
    "    X_test.append(test_data)\n",
    "    \n",
    "    train_label, test_label = label_train[train_index], label_train[test_index]\n",
    "    y_train.append(train_label)\n",
    "    y_test.append(test_label)    "
   ]
  },
  {
   "cell_type": "code",
   "execution_count": 178,
   "metadata": {},
   "outputs": [
    {
     "name": "stderr",
     "output_type": "stream",
     "text": [
      "/Users/clinton.ali/anaconda3/lib/python3.6/site-packages/sklearn/neural_network/multilayer_perceptron.py:562: ConvergenceWarning: Stochastic Optimizer: Maximum iterations (200) reached and the optimization hasn't converged yet.\n",
      "  % self.max_iter, ConvergenceWarning)\n",
      "/Users/clinton.ali/anaconda3/lib/python3.6/site-packages/sklearn/neural_network/multilayer_perceptron.py:562: ConvergenceWarning: Stochastic Optimizer: Maximum iterations (200) reached and the optimization hasn't converged yet.\n",
      "  % self.max_iter, ConvergenceWarning)\n",
      "/Users/clinton.ali/anaconda3/lib/python3.6/site-packages/sklearn/neural_network/multilayer_perceptron.py:562: ConvergenceWarning: Stochastic Optimizer: Maximum iterations (200) reached and the optimization hasn't converged yet.\n",
      "  % self.max_iter, ConvergenceWarning)\n",
      "/Users/clinton.ali/anaconda3/lib/python3.6/site-packages/sklearn/neural_network/multilayer_perceptron.py:562: ConvergenceWarning: Stochastic Optimizer: Maximum iterations (200) reached and the optimization hasn't converged yet.\n",
      "  % self.max_iter, ConvergenceWarning)\n"
     ]
    }
   ],
   "source": [
    "# testing 0 1 loss\n",
    "l_test_error = [];\n",
    "s_test_error = [];\n",
    "r_test_error = [];\n",
    "k_test_error = [];\n",
    "a_test_error = [];\n",
    "l_pred = []\n",
    "s_pred = []\n",
    "r_pred = []\n",
    "k_pred = []\n",
    "a_pred = []\n",
    "\n",
    "\n",
    "for i in range(4):\n",
    "    l.fit(X_train[i],y_train[i])\n",
    "    s.fit(X_train[i],y_train[i])\n",
    "    r.fit(X_train[i],y_train[i])\n",
    "    k.fit(X_train[i],y_train[i])   \n",
    "    a.fit(X_train[i],y_train[i])  \n",
    "\n",
    "    l_pred.append(l.predict(X_test[i]))\n",
    "    l_test_error.append(balanced_accuracy_score(y_test[i],l_pred[i]))\n",
    "    s_pred.append(s.predict(X_test[i])) \n",
    "    s_test_error.append(balanced_accuracy_score(y_test[i],s_pred[i]))\n",
    "    \n",
    "    r_pred.append(r.predict(X_test[i]))\n",
    "    r_test_error.append(balanced_accuracy_score(y_test[i],r_pred[i]))    \n",
    "    k_pred.append(k.predict(X_test[i]))\n",
    "    k_test_error.append(balanced_accuracy_score(y_test[i],k_pred[i]))  \n",
    "    a_pred.append(a.predict(X_test[i]))\n",
    "    a_test_error.append(balanced_accuracy_score(y_test[i],a_pred[i]))\n",
    "\n",
    "index = []\n",
    "index.append(l_test_error.index(max(l_test_error)))\n",
    "index.append(s_test_error.index(max(s_test_error)))\n",
    "index.append(r_test_error.index(max(r_test_error)))\n",
    "index.append(k_test_error.index(max(k_test_error)))\n",
    "index.append(a_test_error.index(max(a_test_error)))"
   ]
  },
  {
   "cell_type": "markdown",
   "metadata": {},
   "source": []
  },
  {
   "cell_type": "code",
   "execution_count": 179,
   "metadata": {},
   "outputs": [
    {
     "name": "stdout",
     "output_type": "stream",
     "text": [
      "[0.275, 0.345, 0.31999999999999995, 0.345, 0.30000000000000004]\n"
     ]
    },
    {
     "name": "stderr",
     "output_type": "stream",
     "text": [
      "/Users/clinton.ali/anaconda3/lib/python3.6/site-packages/sklearn/neural_network/multilayer_perceptron.py:562: ConvergenceWarning: Stochastic Optimizer: Maximum iterations (200) reached and the optimization hasn't converged yet.\n",
      "  % self.max_iter, ConvergenceWarning)\n"
     ]
    }
   ],
   "source": [
    "l.fit(X_train[index[0]],y_train[index[0]])\n",
    "s.fit(X_train[index[1]],y_train[index[1]])\n",
    "r.fit(X_train[index[2]],y_train[index[2]])\n",
    "k.fit(X_train[index[3]],y_train[index[3]])   \n",
    "a.fit(X_train[index[4]],y_train[index[4]])  \n",
    "\n",
    "l_test_pred = l.predict(X_test_one_hot)\n",
    "s_test_pred = s.predict(X_test_one_hot)\n",
    "r_test_pred = r.predict(X_test_one_hot)\n",
    "k_test_pred = k.predict(X_test_one_hot)\n",
    "a_test_pred = a.predict(X_test_one_hot)\n",
    "\n",
    "empirical_risk = []\n",
    "\n",
    "empirical_risk.append(zero_one_loss(label_test,l_test_pred))\n",
    "empirical_risk.append(zero_one_loss(label_test,s_test_pred))\n",
    "empirical_risk.append(zero_one_loss(label_test,r_test_pred))\n",
    "empirical_risk.append(zero_one_loss(label_test,k_test_pred))\n",
    "empirical_risk.append(zero_one_loss(label_test,a_test_pred))\n",
    "\n",
    "\n",
    "m = X_test_one_hot.shape[0]\n",
    "\n",
    "print(empirical_risk)"
   ]
  },
  {
   "cell_type": "markdown",
   "metadata": {},
   "source": [
    "# Analysis\n",
    "\n",
    "## Empirical Risk\n",
    "The empirical risk of each classifier were found to be as follows:\n",
    "$L_S(h_1) = 0.275$  \n",
    "$L_S(h_2) = 0.345$  \n",
    "$L_S(h_3) = 0.320$  \n",
    "$L_S(h_4) = 0.345$  \n",
    "$L_S(h_5) = 0.300$  \n",
    "\n",
    "## Hoeffding's Bound on Empirical Risk with a zero-one loss function\n",
    "The Hoeffding's bounds were chosen because they offer a tighter bound compared to the usual methods. The confidence intervals were computed as follows:  \n",
    "\n",
    "$P(|L_{S_{test}}(h_i) - L_S(h_i)|) \\geq \\sqrt{\\frac{\\log 2/\\delta}{2m}}$ for  $i \\in 1,2,3,5,4,6$\n",
    "\n",
    "\n",
    "Where $m = 200$, or size of testing set.\n",
    "\n",
    "Based on the one-at-time 95% and 99% confidence intervals, logistic regression was the classifier with the tightest upper bound on the empirical risk. However, based on both te 95% and 99% simultaneous confidence intervals, with equal weights given to each classifer, it is possible to conclude that there are no statistically significant difference between each classifier's empirical risk."
   ]
  },
  {
   "cell_type": "code",
   "execution_count": 180,
   "metadata": {},
   "outputs": [
    {
     "data": {
      "image/png": "[encoded data removed]",
      "text/plain": [
       "<Figure size 432x288 with 1 Axes>"
      ]
     },
     "metadata": {},
     "output_type": "display_data"
    }
   ],
   "source": [
    "delta = 0.05\n",
    "hoeffding = np.sqrt(float(np.log(2/delta))/(float(2)*m))\n",
    "lower = empirical_risk - hoeffding\n",
    "upper = empirical_risk + hoeffding\n",
    "hoeffding_ci = [lower,upper]\n",
    "\n",
    "\n",
    "plt.errorbar([\"h1\",\"h2\",\"h3\",\"h4\",\"h5\"], empirical_risk, yerr=hoeffding, linestyle='',fmt=\"o\")\n",
    "plt.title(\"Hoeffding's 95% Confidence Interval\")\n",
    "axes = plt.gca()\n",
    "axes.set_ylim([0,0.6])\n",
    "plt.xlabel('Classifier')\n",
    "plt.ylabel('Empirical Risk')\n",
    "plt.show()"
   ]
  },
  {
   "cell_type": "markdown",
   "metadata": {},
   "source": [
    "\n",
    "delta = 0.01\n",
    "hoeffding = np.sqrt(float(np.log(2/delta))/(float(2)*m))\n",
    "lower = empirical_risk - hoeffding\n",
    "upper = empirical_risk + hoeffding\n",
    "hoeffding_ci = [lower,upper]\n",
    "\n",
    "plt.errorbar([\"h1\",\"h2\",\"h3\",\"h4\",\"h5\"], empirical_risk, yerr=hoeffding, linestyle='',fmt=\"o\")\n",
    "plt.title(\"Hoeffding's 99% Confidence Interval\")\n",
    "axes = plt.gca()\n",
    "axes.set_ylim([0,0.6])\n",
    "plt.xlabel('Classifier')\n",
    "plt.ylabel('Empirical Risk')\n",
    "plt.show()"
   ]
  },
  {
   "cell_type": "code",
   "execution_count": 182,
   "metadata": {},
   "outputs": [
    {
     "data": {
      "image/png": "[encoded data removed]",
      "text/plain": [
       "<Figure size 432x288 with 1 Axes>"
      ]
     },
     "metadata": {},
     "output_type": "display_data"
    }
   ],
   "source": [
    "delta = 0.05/5\n",
    "hoeffding = np.sqrt(float(np.log(2/delta))/(float(2)*m))\n",
    "lower = empirical_risk - hoeffding\n",
    "upper = empirical_risk + hoeffding\n",
    "hoeffding_ci = [lower,upper]\n",
    "\n",
    "\n",
    "plt.errorbar([\"h1\",\"h2\",\"h3\",\"h4\",\"h5\"], empirical_risk, yerr=hoeffding, linestyle='',fmt=\"o\")\n",
    "plt.title(\"Hoeffding's Simultaneous 95% Confidence Interval\")\n",
    "axes = plt.gca()\n",
    "axes.set_ylim([0,0.6])\n",
    "plt.xlabel('Classifier')\n",
    "plt.ylabel('Empirical Risk')\n",
    "plt.show()"
   ]
  },
  {
   "cell_type": "code",
   "execution_count": 183,
   "metadata": {
    "scrolled": true
   },
   "outputs": [
    {
     "data": {
      "image/png": "[encoded data removed]",
      "text/plain": [
       "<Figure size 432x288 with 1 Axes>"
      ]
     },
     "metadata": {},
     "output_type": "display_data"
    }
   ],
   "source": [
    "delta = 0.01/5\n",
    "hoeffding = np.sqrt(float(np.log(2/delta))/(float(2)*m))\n",
    "lower = empirical_risk - hoeffding\n",
    "upper = empirical_risk + hoeffding\n",
    "hoeffding_ci = [lower,upper]\n",
    "\n",
    "\n",
    "plt.errorbar([\"h1\",\"h2\",\"h3\",\"h4\",\"h5\"], empirical_risk, yerr=hoeffding, linestyle='',fmt=\"o\")\n",
    "plt.title(\"Hoeffding's Simultaneous 99% Confidence Interval\")\n",
    "axes = plt.gca()\n",
    "axes.set_ylim([0,0.5])\n",
    "plt.xlabel('Classifier')\n",
    "plt.ylabel('Empirical Risk')\n",
    "plt.show()"
   ]
  },
  {
   "cell_type": "code",
   "execution_count": null,
   "metadata": {},
   "outputs": [],
   "source": []
  },
  {
   "cell_type": "code",
   "execution_count": 190,
   "metadata": {},
   "outputs": [
    {
     "name": "stdout",
     "output_type": "stream",
     "text": [
      "[0.6493381076033974, 0.48666029635730507, 0.517364377081911, 0.529765792256989, 0.683813659258385]\n"
     ]
    }
   ],
   "source": [
    "print(avg_prec)"
   ]
  },
  {
   "cell_type": "markdown",
   "metadata": {},
   "source": [
    "## Average Precision Score\n",
    "Precision and recall curve measures the ratio of true positives over the sum of true and negative\n",
    "positives. However, the difficulty of assessing the curve itself has lend a way to using it's Average Precision Score. The higher the average precision score of a classifier, the better the classifier is at minimizing false positives. The average precision score of classifier $h_i$ will denoted as $APS(h_i)$.\n",
    "\n",
    "The average precision score of each classifier are:\n",
    "$APS(h_1) = 0.649$\n",
    "$APS(h_2) = 0.487$\n",
    "$APS(h_3) = 0.517$\n",
    "$APS(h_4) = 0.530$\n",
    "$APS(h_5) = 0.684$\n",
    "\n",
    "\n",
    "## Bootstrap bounds on Average Precision Score\n",
    "\n",
    "Since, the precision scores are unique according to each testing set. A method (Evans & Rosenthal, p. 355) devised to find the standard error by resampling from an empirical cumulative distribution function. Resamples are drawn with replacement on the testing data and then its average precision score is calculated. This process is repeated for $10^4$ times in order to generate an empirical distribution function and which in turn will generate a standard error. Then a studentized $\\gamma$-confidence interval of the average precision score can be computed as follows:\n",
    "\n",
    "$APS(h_i) \\pm t_{(1+\\gamma)/2}(n-1) \\cdot \\sqrt{Var(APS(h_i))}$ for $i = 1,2,3,4,5$\n",
    "\n",
    "Based on the 95% and 99% confidence intervals, the neural network has the tightest lower bound on the average precision score. While on the simultaneous 95% confidence intervals, there is a clear separation between the average precision score of the single layer neural network and the support vector machine with polynomial kernel. However, at the simultaneous 99% confidence interval all the classifier's average precision score overlaps again."
   ]
  },
  {
   "cell_type": "code",
   "execution_count": 184,
   "metadata": {},
   "outputs": [],
   "source": [
    "\n",
    "avg_prec = []\n",
    "avg_prec.append(average_precision_score(label_test,l.predict_proba(X_test_one_hot)[:,1]))\n",
    "avg_prec.append(average_precision_score(label_test,s.predict_proba(X_test_one_hot)[:,1]))\n",
    "avg_prec.append(average_precision_score(label_test,r.predict_proba(X_test_one_hot)[:,1]))\n",
    "avg_prec.append(average_precision_score(label_test,k.predict_proba(X_test_one_hot)[:,1]))\n",
    "avg_prec.append(average_precision_score(label_test,a.predict_proba(X_test_one_hot)[:,1]))\n",
    "\n",
    "\n",
    "## bootstrap for confidence interval\n",
    "n_bootstraps = 10000\n",
    "bootstrap_prec = []\n",
    "for i in range(5):\n",
    "    bootstrap_prec.append([])\n",
    "\n",
    "rng = np.random.RandomState(seed)\n",
    "for i in range(n_bootstraps):\n",
    "    indices = rng.randint(0, len(label_test) - 1, len(label_test))\n",
    "    bootstrap_prec[0].append(average_precision_score(label_test[indices],l.predict_proba(X_test_one_hot[indices,])[:,1], pos_label = 0))\n",
    "    bootstrap_prec[1].append(average_precision_score(label_test[indices],s.predict_proba(X_test_one_hot[indices,])[:,1], pos_label = 0))\n",
    "    bootstrap_prec[2].append(average_precision_score(label_test[indices],r.predict_proba(X_test_one_hot[indices,])[:,1], pos_label = 0))\n",
    "    bootstrap_prec[3].append(average_precision_score(label_test[indices],k.predict_proba(X_test_one_hot[indices,])[:,1], pos_label = 0))\n",
    "    bootstrap_prec[4].append(average_precision_score(label_test[indices],a.predict_proba(X_test_one_hot[indices,])[:,1], pos_label = 0))\n",
    "\n",
    "# get standard errors to build the t student confidence interval via bootstrapping\n",
    "std_error = []\n",
    "for i in range(5):\n",
    "    std_error.append(np.sqrt(np.var(bootstrap_prec[i])))\n",
    "\n"
   ]
  },
  {
   "cell_type": "code",
   "execution_count": null,
   "metadata": {},
   "outputs": [],
   "source": []
  },
  {
   "cell_type": "code",
   "execution_count": 185,
   "metadata": {},
   "outputs": [
    {
     "data": {
      "image/png": "[encoded data removed]",
      "text/plain": [
       "<Figure size 432x288 with 1 Axes>"
      ]
     },
     "metadata": {},
     "output_type": "display_data"
    }
   ],
   "source": [
    "alpha = 0.05\n",
    "t_stat = t.ppf((1-alpha+1)/2, df = n_bootstraps - 1)\n",
    "upper_lower_bound = t_stat*std_error[0]\n",
    "\n",
    "plt.errorbar([\"h1\",\"h2\",\"h3\",\"h4\",\"h5\"], avg_prec, yerr=upper_lower_bound, linestyle='',fmt=\"o\")\n",
    "plt.title(\"Average Precision Score 95% Confidence Interval\")\n",
    "axes = plt.gca()\n",
    "axes.set_ylim([0.3,0.8])\n",
    "plt.xlabel('Classifier')\n",
    "plt.ylabel('Average Precision Score')\n",
    "plt.show()"
   ]
  },
  {
   "cell_type": "code",
   "execution_count": 186,
   "metadata": {},
   "outputs": [
    {
     "data": {
      "image/png": "[encoded data removed]",
      "text/plain": [
       "<Figure size 432x288 with 1 Axes>"
      ]
     },
     "metadata": {},
     "output_type": "display_data"
    }
   ],
   "source": [
    "alpha = 0.01\n",
    "t_stat = t.ppf((1-alpha+1)/2, df = n_bootstraps - 1)\n",
    "upper_lower_bound = t_stat*std_error[0]\n",
    "\n",
    "plt.errorbar([\"h1\",\"h2\",\"h3\",\"h4\",\"h5\"], avg_prec, yerr=upper_lower_bound, linestyle='',fmt=\"o\")\n",
    "plt.title(\"Average Precision Score 99% Confidence Interval\")\n",
    "axes = plt.gca()\n",
    "axes.set_ylim([0.3,0.8])\n",
    "plt.xlabel('Classifier')\n",
    "plt.ylabel('Average Precision Score')\n",
    "plt.show()"
   ]
  },
  {
   "cell_type": "code",
   "execution_count": 192,
   "metadata": {},
   "outputs": [
    {
     "data": {
      "image/png": "[encoded data removed]",
      "text/plain": [
       "<Figure size 432x288 with 1 Axes>"
      ]
     },
     "metadata": {},
     "output_type": "display_data"
    }
   ],
   "source": [
    "alpha = 0.05/5\n",
    "t_stat = t.ppf((1-alpha+1)/2, df = n_bootstraps - 1)\n",
    "upper_lower_bound = t_stat*std_error[0]\n",
    "\n",
    "plt.errorbar([\"h1\",\"h2\",\"h3\",\"h4\",\"h5\"], avg_prec, yerr=upper_lower_bound, linestyle='',fmt=\"o\")\n",
    "plt.title(\"Average Precision Score Simultaneous 95% Confidence Interval\")\n",
    "axes = plt.gca()\n",
    "axes.set_ylim([0.3,0.9])\n",
    "plt.xlabel('Classifier')\n",
    "plt.ylabel('Average Precision Score')\n",
    "plt.show()"
   ]
  },
  {
   "cell_type": "code",
   "execution_count": 191,
   "metadata": {},
   "outputs": [
    {
     "data": {
      "image/png": "[encoded data removed]",
      "text/plain": [
       "<Figure size 432x288 with 1 Axes>"
      ]
     },
     "metadata": {},
     "output_type": "display_data"
    }
   ],
   "source": [
    "alpha = 0.01/5\n",
    "t_stat = t.ppf((1-alpha+1)/2, df = n_bootstraps - 1)\n",
    "upper_lower_bound = t_stat*std_error[0]\n",
    "\n",
    "plt.errorbar([\"h1\",\"h2\",\"h3\",\"h4\",\"h5\"], avg_prec, yerr=upper_lower_bound, linestyle='',fmt=\"o\")\n",
    "plt.title(\"Average Precision Score Simultaneous 99% Confidence Interval\")\n",
    "axes = plt.gca()\n",
    "axes.set_ylim([0.3,0.9])\n",
    "plt.xlabel('Classifier')\n",
    "plt.ylabel('Average Precision Score')\n",
    "plt.show()"
   ]
  },
  {
   "cell_type": "code",
   "execution_count": null,
   "metadata": {},
   "outputs": [],
   "source": []
  },
  {
   "cell_type": "markdown",
   "metadata": {},
   "source": [
    "\n",
    "\n",
    "# Improvements\n",
    "The biggest omission of this experiment is hyper parameter tuning. Since, all the parameters were chosen by inspecting the training errors directly, it may have been that the final parameters chosen are not optimal. For future runs of this experiment this can be implemented. However, all results of this experiment can be replicated by using the same seed on the supplementary code.\n",
    "\n",
    "# Conclusion\n",
    "Based on the zero one loss metric, it was discovered that there perhaps may not be a better classifier out of the five since the simultaneous confidence interval overlaps with each classifiers empirical risk. Also based on the average precision score, it was also discovered that at the boot-strap simultaneous 99% confidence interval there are no better classifier.  However, based on the tightest upper bound of the empirical risk, the logistic regression will be the classifier of choice for this run of the experiment.  While, based on the tightest lower bound of the average precision score, the single layer neural network will be the classifier of choice for this run of the experiment."
   ]
  },
  {
   "cell_type": "code",
   "execution_count": null,
   "metadata": {},
   "outputs": [],
   "source": []
  }
 ],
 "metadata": {
  "kernelspec": {
   "display_name": "Python 3",
   "language": "python",
   "name": "python3"
  },
  "language_info": {
   "codemirror_mode": {
    "name": "ipython",
    "version": 3
   },
   "file_extension": ".py",
   "mimetype": "text/x-python",
   "name": "python",
   "nbconvert_exporter": "python",
   "pygments_lexer": "ipython3",
   "version": "3.6.5"
  }
 },
 "nbformat": 4,
 "nbformat_minor": 2
}
